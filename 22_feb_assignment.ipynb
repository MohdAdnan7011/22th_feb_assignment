{
 "cells": [
  {
   "cell_type": "code",
   "execution_count": 6,
   "id": "cf172119",
   "metadata": {},
   "outputs": [],
   "source": [
    "# Question No 1\n",
    "import pandas as pd"
   ]
  },
  {
   "cell_type": "code",
   "execution_count": 7,
   "id": "939a3e23",
   "metadata": {},
   "outputs": [],
   "source": [
    "data = [4,8,15,16,23,42]"
   ]
  },
  {
   "cell_type": "code",
   "execution_count": 10,
   "id": "a4b12107",
   "metadata": {},
   "outputs": [],
   "source": [
    " series = pd.Series(data)"
   ]
  },
  {
   "cell_type": "code",
   "execution_count": 11,
   "id": "e75bcc0f",
   "metadata": {},
   "outputs": [
    {
     "name": "stdout",
     "output_type": "stream",
     "text": [
      "0     4\n",
      "1     8\n",
      "2    15\n",
      "3    16\n",
      "4    23\n",
      "5    42\n",
      "dtype: int64\n"
     ]
    }
   ],
   "source": [
    "print(series)"
   ]
  },
  {
   "cell_type": "code",
   "execution_count": 16,
   "id": "929c59f0",
   "metadata": {},
   "outputs": [],
   "source": [
    "# Question No 2\n",
    "data1 = [1,2,3,4,'Mohd','Adnan','Ahmed',7,8,9]\n"
   ]
  },
  {
   "cell_type": "code",
   "execution_count": 17,
   "id": "2ed0ea9d",
   "metadata": {},
   "outputs": [],
   "source": [
    "df = pd.Series(data1)"
   ]
  },
  {
   "cell_type": "code",
   "execution_count": 18,
   "id": "067f1090",
   "metadata": {},
   "outputs": [
    {
     "name": "stdout",
     "output_type": "stream",
     "text": [
      "0        1\n",
      "1        2\n",
      "2        3\n",
      "3        4\n",
      "4     Mohd\n",
      "5    Adnan\n",
      "6    Ahmed\n",
      "7        7\n",
      "8        8\n",
      "9        9\n",
      "dtype: object\n"
     ]
    }
   ],
   "source": [
    "print(df)"
   ]
  },
  {
   "cell_type": "code",
   "execution_count": 19,
   "id": "8cf6c2f7",
   "metadata": {},
   "outputs": [],
   "source": [
    "# Question No 3\n",
    "data2 = {\n",
    "    'Name':['Alice', 'Bob', 'Claire'],\n",
    "    'age' :[25,30,27],\n",
    "    'Gender': ['Female', 'Male', 'Female']\n",
    "}"
   ]
  },
  {
   "cell_type": "code",
   "execution_count": 20,
   "id": "383f79b8",
   "metadata": {},
   "outputs": [],
   "source": [
    "df2 = pd.DataFrame(data2)"
   ]
  },
  {
   "cell_type": "code",
   "execution_count": 21,
   "id": "e66c1b9f",
   "metadata": {},
   "outputs": [
    {
     "name": "stdout",
     "output_type": "stream",
     "text": [
      "     Name  age  Gender\n",
      "0   Alice   25  Female\n",
      "1     Bob   30    Male\n",
      "2  Claire   27  Female\n"
     ]
    }
   ],
   "source": [
    "print(df2)"
   ]
  },
  {
   "cell_type": "code",
   "execution_count": 26,
   "id": "02df61f3",
   "metadata": {},
   "outputs": [
    {
     "data": {
      "text/plain": [
       "'A DataFrame in Pandas is a two-dimensional, size-mutable, and potentially heterogeneous\\ntabular data structure with labeled axes (rows and columns). It is similar to a\\nspreadsheet or SQL table, or a dictionary of Series objects.\\n\\nDifferences.\\n\\nDimensions:\\nSeries: One-dimensional.\\nDataFrame: Two-dimensional.\\n    \\nStructure:\\nSeries: A single column of data.\\nDataFrame: Multiple columns, each of which can be a Series.\\n    \\nUse Case:\\nSeries: Useful for representing a single column or row of data.\\nDataFrame: Useful for representing tabular data with multiple rows and columns.'"
      ]
     },
     "execution_count": 26,
     "metadata": {},
     "output_type": "execute_result"
    }
   ],
   "source": [
    "# Question No 4\n",
    "'''A DataFrame in Pandas is a two-dimensional, size-mutable, and potentially heterogeneous\n",
    "tabular data structure with labeled axes (rows and columns). It is similar to a\n",
    "spreadsheet or SQL table, or a dictionary of Series objects.\n",
    "\n",
    "Differences.\n",
    "\n",
    "Dimensions:\n",
    "Series: One-dimensional.\n",
    "DataFrame: Two-dimensional.\n",
    "    \n",
    "Structure:\n",
    "Series: A single column of data.\n",
    "DataFrame: Multiple columns, each of which can be a Series.\n",
    "    \n",
    "Use Case:\n",
    "Series: Useful for representing a single column or row of data.\n",
    "DataFrame: Useful for representing tabular data with multiple rows and columns.'''"
   ]
  },
  {
   "cell_type": "code",
   "execution_count": 22,
   "id": "a87d805e",
   "metadata": {},
   "outputs": [],
   "source": [
    "# Question No 5\n",
    "Common Functions in Pandas DataFrame\n",
    "head() and tail():\n",
    "\n",
    "Display the first or last n rows of the DataFrame.\n",
    "Example: df.head(5) shows the first 5 rows.\n",
    "describe():\n",
    "\n",
    "Provides summary statistics of numerical columns.\n",
    "Example: df.describe() gives mean, std, min, max, etc., for each numerical column.\n",
    "info():\n",
    "\n",
    "Provides a summary of the DataFrame, including data types and non-null counts.\n",
    "Example: df.info() displays a concise summary of the DataFrame.\n",
    "shape:\n",
    "\n",
    "Returns the number of rows and columns in the DataFrame.\n",
    "Example: df.shape gives a tuple (number of rows, number of columns).\n",
    "drop():\n",
    "\n",
    "Removes rows or columns from the DataFrame.\n",
    "Example: df.drop('column_name', axis=1) removes a column named 'column_name'.\n",
    "loc[] and iloc[]:\n",
    "\n",
    "Access a group of rows and columns by labels or positions.\n",
    "Example: df.loc[0] accesses the first row by label, df.iloc[0] by position."
   ]
  },
  {
   "cell_type": "code",
   "execution_count": 27,
   "id": "ccc8115b",
   "metadata": {},
   "outputs": [
    {
     "data": {
      "text/plain": [
       "'In Pandas, both Series and DataFrame are mutable in nature,\\nmeaning you can modify their data after they are created. However,\\nPanel has been deprecated as of Pandas version 0.25.0, so it is no longer used or recommended for use.'"
      ]
     },
     "execution_count": 27,
     "metadata": {},
     "output_type": "execute_result"
    }
   ],
   "source": [
    "# Question No 6\n",
    "'''In Pandas, both Series and DataFrame are mutable in nature,\n",
    "meaning you can modify their data after they are created. However,\n",
    "Panel has been deprecated as of Pandas version 0.25.0, so it is no longer used or recommended for use.'''"
   ]
  },
  {
   "cell_type": "code",
   "execution_count": 31,
   "id": "b84bbb7c",
   "metadata": {},
   "outputs": [
    {
     "name": "stdout",
     "output_type": "stream",
     "text": [
      "     Name  Age  Gender\n",
      "0   Alice   25  Female\n",
      "1     Bob   30    Male\n",
      "2  Claire   27  Female\n"
     ]
    }
   ],
   "source": [
    "# Question No 7\n",
    "import pandas as pd\n",
    "names = pd.Series(['Alice', 'Bob', 'Claire'])\n",
    "ages = pd.Series([25,30,27])\n",
    "genders = pd.Series(['Female', 'Male', 'Female'])\n",
    "\n",
    "data4 = {\n",
    "    'Name' : names,\n",
    "    'Age' : ages,\n",
    "    'Gender' : genders\n",
    "}\n",
    "\n",
    "df3 = pd.DataFrame(data4)\n",
    "print(df3)\n"
   ]
  },
  {
   "cell_type": "code",
   "execution_count": null,
   "id": "67869f4e",
   "metadata": {},
   "outputs": [],
   "source": []
  }
 ],
 "metadata": {
  "kernelspec": {
   "display_name": "Python 3 (ipykernel)",
   "language": "python",
   "name": "python3"
  },
  "language_info": {
   "codemirror_mode": {
    "name": "ipython",
    "version": 3
   },
   "file_extension": ".py",
   "mimetype": "text/x-python",
   "name": "python",
   "nbconvert_exporter": "python",
   "pygments_lexer": "ipython3",
   "version": "3.11.5"
  }
 },
 "nbformat": 4,
 "nbformat_minor": 5
}
